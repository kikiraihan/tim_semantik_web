{
 "cells": [
  {
   "cell_type": "markdown",
   "metadata": {},
   "source": [
    "<h4>RDF</h4>\n",
    "<p>Pake env t_rdflib (conda)</p>"
   ]
  },
  {
   "cell_type": "code",
   "execution_count": 19,
   "metadata": {},
   "outputs": [],
   "source": [
    "from rdflib import Graph"
   ]
  },
  {
   "cell_type": "code",
   "execution_count": 20,
   "metadata": {},
   "outputs": [],
   "source": [
    "rdfdata = \"\"\"\n",
    "@prefix dwc: <http://rs.tdwg.org/dwc/terms/> .\n",
    "@prefix ex: <http://example.org/> .\n",
    "\n",
    "ex:ResearchStudy a dwc:Event ;\n",
    "  dwc:location [ \n",
    "    a dwc:Location ;\n",
    "    dwc:locationID \"Watutela\" ;\n",
    "    dwc:locationRemarks \"Watutela, Sulawesi Tengah\" \n",
    "  ] ;\n",
    "  dwc:location [ \n",
    "    a dwc:Location ;\n",
    "    dwc:locationID \"Ngatabaru\" ;\n",
    "    dwc:locationRemarks \"Ngatabaru, Sulawesi Tengah\" \n",
    "  ] ;\n",
    "  dwc:eventDate \"2006-03-01/2006-06-30\" ;\n",
    "  dwc:hasPart [\n",
    "    a dwc:MeasurementOrFact ;\n",
    "    dwc:measurementType \"Quantitative Observation\" ;\n",
    "    dwc:measurementValue \"54\" ;\n",
    "    dwc:measurementUnit \"individuals\" ;\n",
    "    dwc:relatedTo [ a dwc:Organism ; dwc:organismType \"Red Junglefowl\" ]\n",
    "  ] ;\n",
    "  dwc:hasPart [\n",
    "    a dwc:MeasurementOrFact ;\n",
    "    dwc:measurementType \"Quantitative Observation\" ;\n",
    "    dwc:measurementValue \"119\" ;\n",
    "    dwc:measurementUnit \"individuals\" ;\n",
    "    dwc:relatedTo [ a dwc:Organism ; dwc:organismType \"Domestic Chicken\" ]\n",
    "  ].\n",
    "\"\"\""
   ]
  },
  {
   "cell_type": "code",
   "execution_count": 21,
   "metadata": {},
   "outputs": [],
   "source": [
    "#inisialisasi\n",
    "g=Graph()"
   ]
  },
  {
   "cell_type": "code",
   "execution_count": 22,
   "metadata": {},
   "outputs": [
    {
     "data": {
      "text/plain": [
       "<Graph identifier=Nee8070a69523490fb155ece84607d896 (<class 'rdflib.graph.Graph'>)>"
      ]
     },
     "execution_count": 22,
     "metadata": {},
     "output_type": "execute_result"
    }
   ],
   "source": [
    "\n",
    "# Parse the data\n",
    "g.parse(data=rdfdata, format=\"turtle\")"
   ]
  },
  {
   "cell_type": "code",
   "execution_count": 23,
   "metadata": {},
   "outputs": [
    {
     "data": {
      "text/plain": [
       "[{'locationID': 'Watutela', 'locationRemarks': 'Watutela, Sulawesi Tengah'},\n",
       " {'locationID': 'Ngatabaru', 'locationRemarks': 'Ngatabaru, Sulawesi Tengah'}]"
      ]
     },
     "execution_count": 23,
     "metadata": {},
     "output_type": "execute_result"
    }
   ],
   "source": [
    "# Menulis query SPARQL\n",
    "query = \"\"\"\n",
    "PREFIX dwc: <http://rs.tdwg.org/dwc/terms/>\n",
    "\n",
    "SELECT ?locationID ?locationRemarks\n",
    "WHERE {\n",
    "  ?study a dwc:Event ;\n",
    "         dwc:hasPart ?observation .\n",
    "  ?observation a dwc:MeasurementOrFact ;\n",
    "               dwc:relatedTo ?organism .\n",
    "  ?organism a dwc:Organism ;\n",
    "            dwc:organismType \"Red Junglefowl\" .\n",
    "  ?study dwc:location ?location .\n",
    "  ?location a dwc:Location ;\n",
    "            dwc:locationID ?locationID ;\n",
    "            dwc:locationRemarks ?locationRemarks .\n",
    "}\n",
    "\"\"\"\n",
    "\n",
    "# Menjalankan query pada graf RDF\n",
    "results = g.query(query)\n",
    "\n",
    "# Mengonversi hasil ke format yang mudah dibaca\n",
    "locations = [{'locationID': str(row.locationID), 'locationRemarks': str(row.locationRemarks)} for row in results]\n",
    "locations"
   ]
  },
  {
   "cell_type": "code",
   "execution_count": null,
   "metadata": {},
   "outputs": [],
   "source": []
  }
 ],
 "metadata": {
  "kernelspec": {
   "display_name": "allahuakbar",
   "language": "python",
   "name": "python3"
  },
  "language_info": {
   "codemirror_mode": {
    "name": "ipython",
    "version": 3
   },
   "file_extension": ".py",
   "mimetype": "text/x-python",
   "name": "python",
   "nbconvert_exporter": "python",
   "pygments_lexer": "ipython3",
   "version": "3.10.9"
  },
  "orig_nbformat": 4
 },
 "nbformat": 4,
 "nbformat_minor": 2
}
