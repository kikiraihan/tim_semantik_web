{
 "cells": [
  {
   "cell_type": "code",
   "execution_count": null,
   "id": "5943ed0f-89c6-46c2-bffc-a0a092b1f3c5",
   "metadata": {},
   "outputs": [],
   "source": []
  }
 ],
 "metadata": {
  "kernelspec": {
   "display_name": "",
   "name": ""
  },
  "language_info": {
   "name": ""
  }
 },
 "nbformat": 4,
 "nbformat_minor": 5
}
