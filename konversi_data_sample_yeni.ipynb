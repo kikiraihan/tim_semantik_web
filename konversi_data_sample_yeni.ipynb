{
 "cells": [
  {
   "cell_type": "markdown",
   "metadata": {},
   "source": [
    "<h4>RDF</h4>\n",
    "<p>Pake env t_rdflib (conda)</p>"
   ]
  },
  {
   "cell_type": "code",
   "execution_count": 1,
   "metadata": {},
   "outputs": [],
   "source": [
    "from rdflib import Graph"
   ]
  },
  {
   "cell_type": "code",
   "execution_count": 2,
   "metadata": {},
   "outputs": [],
   "source": [
    "rdfdata = \"\"\"\n",
    "@prefix dc: <http://purl.org/dc/elements/1.1/> .\n",
    "@prefix datacite: <http://purl.org/spar/datacite/> .\n",
    "@prefix ex: <http://example.org/> .\n",
    "\n",
    "# Dataset\n",
    "ex:DatasetA a datacite:Dataset ;\n",
    "    dc:title \"Jabon Leaf\" ;\n",
    "    datacite:resourceType \"Dataset\" .\n",
    "\n",
    "# Artikel A\n",
    "ex:ArtikelA a datacite:Resource ;\n",
    "    dc:title \"Implementation of support vector machine method for identification of Jabon leaf disease based on morphological characteristics\" ;\n",
    "    dc:creator ex:DosenD, ex:DosenE, ex:DosenA ;\n",
    "    datacite:identifier \"321012\" ;\n",
    "    datacite:resourceType \"Article\" ;\n",
    "    datacite:relatedIdentifier ex:DatasetA ;\n",
    "    dc:relation ex:DatasetA .\n",
    "\n",
    "# Artikel B\n",
    "ex:ArtikelB a datacite:Resource ;\n",
    "    dc:title \"Penerapan Probabilistic Neural Network pada Klasifikasi Patogen Daun Bibit Jabon Berdasarkan Ciri Morfologi Spora\" ;\n",
    "    dc:creator ex:DosenF, ex:DosenC, ex:DosenA ;\n",
    "    datacite:identifier \"42113\" ;\n",
    "    datacite:resourceType \"Article\" ;\n",
    "    datacite:relatedIdentifier ex:DatasetA ;\n",
    "    dc:relation ex:DatasetA .\n",
    "\n",
    "# Peneliti dan Dosen\n",
    "ex:DosenA a datacite:Person ;\n",
    "    dc:title \"Yeni Herdiyeni\" ;\n",
    "    datacite:contributorType \"Researcher\" .\n",
    "\n",
    "ex:DosenB a datacite:Person ;\n",
    "    dc:title \"FY Manik\" ;\n",
    "    datacite:contributorType \"Researcher\" .\n",
    "\n",
    "ex:DosenC a datacite:Person ;\n",
    "    dc:title \"EN Herliyana\" ;\n",
    "    datacite:contributorType \"Researcher\" .\n",
    "\n",
    "ex:DosenD a datacite:Person ;\n",
    "    dc:title \"MB Bangun\" ;\n",
    "    datacite:contributorType \"Researcher\" .\n",
    "\n",
    "ex:DosenE a datacite:Person ;\n",
    "    dc:title \"FY Manik\" ;\n",
    "    datacite:contributorType \"Researcher\" .\n",
    "\n",
    "ex:DosenF a datacite:Person ;\n",
    "    dc:title \"R Nurhasanah\" ;\n",
    "    datacite:contributorType \"Researcher\" .\n",
    "\n",
    "# Relasi Artikel dengan Dataset\n",
    "ex:ArtikelA datacite:relatedIdentifier ex:DatasetA .\n",
    "ex:ArtikelB datacite:relatedIdentifier ex:DatasetA .\n",
    "\n",
    "# Relasi Dosen dan Peneliti dengan Artikel\n",
    "ex:DosenA datacite:relatedIdentifier ex:ArtikelA, ex:ArtikelB .\n",
    "ex:DosenB datacite:relatedIdentifier ex:ArtikelA .\n",
    "ex:DosenC datacite:relatedIdentifier ex:ArtikelB .\n",
    "ex:DosenD datacite:relatedIdentifier ex:ArtikelA .\n",
    "ex:DosenE datacite:relatedIdentifier ex:ArtikelA .\n",
    "ex:DosenF datacite:relatedIdentifier ex:ArtikelB .\n",
    "\"\"\""
   ]
  },
  {
   "cell_type": "code",
   "execution_count": 3,
   "metadata": {},
   "outputs": [],
   "source": [
    "#inisialisasi\n",
    "g=Graph()"
   ]
  },
  {
   "cell_type": "code",
   "execution_count": 4,
   "metadata": {},
   "outputs": [
    {
     "data": {
      "text/plain": [
       "<Graph identifier=N9ccb1d11fcdd4f24a54aaddbe0379192 (<class 'rdflib.graph.Graph'>)>"
      ]
     },
     "execution_count": 4,
     "metadata": {},
     "output_type": "execute_result"
    }
   ],
   "source": [
    "\n",
    "# Parse the data\n",
    "g.parse(data=rdfdata, format=\"turtle\")"
   ]
  },
  {
   "cell_type": "code",
   "execution_count": 12,
   "metadata": {},
   "outputs": [
    {
     "ename": "ParseException",
     "evalue": "Expected end of text, found 'FILTER'  (at char 947), (line:26, col:1)",
     "output_type": "error",
     "traceback": [
      "\u001b[1;31m---------------------------------------------------------------------------\u001b[0m",
      "\u001b[1;31mParseException\u001b[0m                            Traceback (most recent call last)",
      "Cell \u001b[1;32mIn[12], line 31\u001b[0m\n\u001b[0;32m      2\u001b[0m query \u001b[38;5;241m=\u001b[39m \u001b[38;5;124m\"\"\"\u001b[39m\n\u001b[0;32m      3\u001b[0m \u001b[38;5;124mPREFIX dwc: <http://rs.tdwg.org/dwc/terms/>\u001b[39m\n\u001b[0;32m      4\u001b[0m \u001b[38;5;124mPREFIX datacite: <http://purl.org/spar/datacite/>\u001b[39m\n\u001b[1;32m   (...)\u001b[0m\n\u001b[0;32m     27\u001b[0m \u001b[38;5;124mFILTER (?dosenTerhubung != ex:IdDosenA) .\u001b[39m\n\u001b[0;32m     28\u001b[0m \u001b[38;5;124m\"\"\"\u001b[39m\n\u001b[0;32m     30\u001b[0m \u001b[38;5;66;03m# Menjalankan query pada graf RDF\u001b[39;00m\n\u001b[1;32m---> 31\u001b[0m results \u001b[38;5;241m=\u001b[39m \u001b[43mg\u001b[49m\u001b[38;5;241;43m.\u001b[39;49m\u001b[43mquery\u001b[49m\u001b[43m(\u001b[49m\u001b[43mquery\u001b[49m\u001b[43m)\u001b[49m\n\u001b[0;32m     33\u001b[0m \u001b[38;5;66;03m# Mengonversi hasil ke format yang mudah dibaca\u001b[39;00m\n\u001b[0;32m     34\u001b[0m locations \u001b[38;5;241m=\u001b[39m [{\u001b[38;5;124m'\u001b[39m\u001b[38;5;124mdosenTerhubung\u001b[39m\u001b[38;5;124m'\u001b[39m: \u001b[38;5;28mstr\u001b[39m(row\u001b[38;5;241m.\u001b[39mdosenTerhubung), \u001b[38;5;124m'\u001b[39m\u001b[38;5;124midDosenTerhubung\u001b[39m\u001b[38;5;124m'\u001b[39m: \u001b[38;5;28mstr\u001b[39m(row\u001b[38;5;241m.\u001b[39midDosenTerhubung)} \u001b[38;5;28;01mfor\u001b[39;00m row \u001b[38;5;129;01min\u001b[39;00m results]\n",
      "File \u001b[1;32md:\\Sisa onedrive mhs lama\\Documents\\Freelancer\\lain\\Semantic\\tim_semantik_web\\allahuakbar\\lib\\site-packages\\rdflib\\graph.py:1565\u001b[0m, in \u001b[0;36mGraph.query\u001b[1;34m(self, query_object, processor, result, initNs, initBindings, use_store_provided, **kwargs)\u001b[0m\n\u001b[0;32m   1562\u001b[0m     processor \u001b[38;5;241m=\u001b[39m plugin\u001b[38;5;241m.\u001b[39mget(processor, query\u001b[38;5;241m.\u001b[39mProcessor)(\u001b[38;5;28mself\u001b[39m)\n\u001b[0;32m   1564\u001b[0m \u001b[38;5;66;03m# type error: Argument 1 to \"Result\" has incompatible type \"Mapping[str, Any]\"; expected \"str\"\u001b[39;00m\n\u001b[1;32m-> 1565\u001b[0m \u001b[38;5;28;01mreturn\u001b[39;00m result(processor\u001b[38;5;241m.\u001b[39mquery(query_object, initBindings, initNs, \u001b[38;5;241m*\u001b[39m\u001b[38;5;241m*\u001b[39mkwargs))\n",
      "File \u001b[1;32md:\\Sisa onedrive mhs lama\\Documents\\Freelancer\\lain\\Semantic\\tim_semantik_web\\allahuakbar\\lib\\site-packages\\rdflib\\plugins\\sparql\\processor.py:144\u001b[0m, in \u001b[0;36mSPARQLProcessor.query\u001b[1;34m(self, strOrQuery, initBindings, initNs, base, DEBUG)\u001b[0m\n\u001b[0;32m    124\u001b[0m \u001b[38;5;250m\u001b[39m\u001b[38;5;124;03m\"\"\"\u001b[39;00m\n\u001b[0;32m    125\u001b[0m \u001b[38;5;124;03mEvaluate a query with the given initial bindings, and initial\u001b[39;00m\n\u001b[0;32m    126\u001b[0m \u001b[38;5;124;03mnamespaces. The given base is used to resolve relative URIs in\u001b[39;00m\n\u001b[1;32m   (...)\u001b[0m\n\u001b[0;32m    140\u001b[0m \u001b[38;5;124;03m   documentation.\u001b[39;00m\n\u001b[0;32m    141\u001b[0m \u001b[38;5;124;03m\"\"\"\u001b[39;00m\n\u001b[0;32m    143\u001b[0m \u001b[38;5;28;01mif\u001b[39;00m \u001b[38;5;28misinstance\u001b[39m(strOrQuery, \u001b[38;5;28mstr\u001b[39m):\n\u001b[1;32m--> 144\u001b[0m     strOrQuery \u001b[38;5;241m=\u001b[39m translateQuery(\u001b[43mparseQuery\u001b[49m\u001b[43m(\u001b[49m\u001b[43mstrOrQuery\u001b[49m\u001b[43m)\u001b[49m, base, initNs)\n\u001b[0;32m    146\u001b[0m \u001b[38;5;28;01mreturn\u001b[39;00m evalQuery(\u001b[38;5;28mself\u001b[39m\u001b[38;5;241m.\u001b[39mgraph, strOrQuery, initBindings, base)\n",
      "File \u001b[1;32md:\\Sisa onedrive mhs lama\\Documents\\Freelancer\\lain\\Semantic\\tim_semantik_web\\allahuakbar\\lib\\site-packages\\rdflib\\plugins\\sparql\\parser.py:1542\u001b[0m, in \u001b[0;36mparseQuery\u001b[1;34m(q)\u001b[0m\n\u001b[0;32m   1539\u001b[0m     q \u001b[38;5;241m=\u001b[39m q\u001b[38;5;241m.\u001b[39mdecode(\u001b[38;5;124m\"\u001b[39m\u001b[38;5;124mutf-8\u001b[39m\u001b[38;5;124m\"\u001b[39m)\n\u001b[0;32m   1541\u001b[0m q \u001b[38;5;241m=\u001b[39m expandUnicodeEscapes(q)\n\u001b[1;32m-> 1542\u001b[0m \u001b[38;5;28;01mreturn\u001b[39;00m \u001b[43mQuery\u001b[49m\u001b[38;5;241;43m.\u001b[39;49m\u001b[43mparseString\u001b[49m\u001b[43m(\u001b[49m\u001b[43mq\u001b[49m\u001b[43m,\u001b[49m\u001b[43m \u001b[49m\u001b[43mparseAll\u001b[49m\u001b[38;5;241;43m=\u001b[39;49m\u001b[38;5;28;43;01mTrue\u001b[39;49;00m\u001b[43m)\u001b[49m\n",
      "File \u001b[1;32md:\\Sisa onedrive mhs lama\\Documents\\Freelancer\\lain\\Semantic\\tim_semantik_web\\allahuakbar\\lib\\site-packages\\pyparsing\\util.py:256\u001b[0m, in \u001b[0;36mreplaced_by_pep8.<locals>._inner\u001b[1;34m(self, *args, **kwargs)\u001b[0m\n\u001b[0;32m    251\u001b[0m \u001b[38;5;129m@wraps\u001b[39m(fn)\n\u001b[0;32m    252\u001b[0m \u001b[38;5;28;01mdef\u001b[39;00m \u001b[38;5;21m_inner\u001b[39m(\u001b[38;5;28mself\u001b[39m, \u001b[38;5;241m*\u001b[39margs, \u001b[38;5;241m*\u001b[39m\u001b[38;5;241m*\u001b[39mkwargs):\n\u001b[0;32m    253\u001b[0m     \u001b[38;5;66;03m# warnings.warn(\u001b[39;00m\n\u001b[0;32m    254\u001b[0m     \u001b[38;5;66;03m#     f\"Deprecated - use {fn.__name__}\", DeprecationWarning, stacklevel=2\u001b[39;00m\n\u001b[0;32m    255\u001b[0m     \u001b[38;5;66;03m# )\u001b[39;00m\n\u001b[1;32m--> 256\u001b[0m     \u001b[38;5;28;01mreturn\u001b[39;00m fn(\u001b[38;5;28mself\u001b[39m, \u001b[38;5;241m*\u001b[39margs, \u001b[38;5;241m*\u001b[39m\u001b[38;5;241m*\u001b[39mkwargs)\n",
      "File \u001b[1;32md:\\Sisa onedrive mhs lama\\Documents\\Freelancer\\lain\\Semantic\\tim_semantik_web\\allahuakbar\\lib\\site-packages\\pyparsing\\core.py:1200\u001b[0m, in \u001b[0;36mParserElement.parse_string\u001b[1;34m(self, instring, parse_all, parseAll)\u001b[0m\n\u001b[0;32m   1197\u001b[0m         \u001b[38;5;28;01mraise\u001b[39;00m\n\u001b[0;32m   1198\u001b[0m     \u001b[38;5;28;01melse\u001b[39;00m:\n\u001b[0;32m   1199\u001b[0m         \u001b[38;5;66;03m# catch and re-raise exception from here, clearing out pyparsing internal stack trace\u001b[39;00m\n\u001b[1;32m-> 1200\u001b[0m         \u001b[38;5;28;01mraise\u001b[39;00m exc\u001b[38;5;241m.\u001b[39mwith_traceback(\u001b[38;5;28;01mNone\u001b[39;00m)\n\u001b[0;32m   1201\u001b[0m \u001b[38;5;28;01melse\u001b[39;00m:\n\u001b[0;32m   1202\u001b[0m     \u001b[38;5;28;01mreturn\u001b[39;00m tokens\n",
      "\u001b[1;31mParseException\u001b[0m: Expected end of text, found 'FILTER'  (at char 947), (line:26, col:1)"
     ]
    }
   ],
   "source": [
    "# Menulis query SPARQL\n",
    "query = \"\"\"\n",
    "PREFIX dwc: <http://rs.tdwg.org/dwc/terms/>\n",
    "PREFIX datacite: <http://purl.org/spar/datacite/>\n",
    "\n",
    "SELECT ?dosenTerhubung ?idDosenTerhubung\n",
    "WHERE {\n",
    "\n",
    "    # mengambil data dosen A. misal id Dosen A “3218931”\n",
    "    ?IdDosenA  is a datacite:PersonalIdentifier .\n",
    "    ?IdDosenA Datacite:PersonalIdentifier “3218931”. \n",
    "    \n",
    "    # mengambil data penelitian dosenA, dan subjeknya karet\n",
    "    ?DataPenelitianDosenA Datacite:hasIdentifier ?IdDosenA .\n",
    "    ?DataPenelitianDosenA  is a datacite:ResourceIdentifier .\n",
    "    ?DataPenelitianDosenA dc:HasSubject “Karet”.\n",
    "    \n",
    "    # Menemukan semua dosen lain yang terkait dengan data penelitian yang sama \n",
    "    ?DataPenelitianDosenA datacite:hasIdentifier ?IdDosenTerhubung . \n",
    "    ?!IdDosenTerhubung is a datacite:PersonalIdentifier\n",
    "    \n",
    "    # Mendapatkan id dari dosen yang terhubung \n",
    "    ?IdDosenTerhubung rdfs:label ?IdDosenTerhubung . \n",
    "    \n",
    "    # Menghindari mengembalikan dosen A itu sendiri\n",
    "}\n",
    "FILTER (?dosenTerhubung != ex:IdDosenA) .\n",
    "\"\"\"\n",
    "\n",
    "# Menjalankan query pada graf RDF\n",
    "results = g.query(query)\n",
    "\n",
    "# Mengonversi hasil ke format yang mudah dibaca\n",
    "locations = [{'dosenTerhubung': str(row.dosenTerhubung), 'idDosenTerhubung': str(row.idDosenTerhubung)} for row in results]\n",
    "locations"
   ]
  },
  {
   "cell_type": "code",
   "execution_count": null,
   "metadata": {},
   "outputs": [],
   "source": []
  }
 ],
 "metadata": {
  "kernelspec": {
   "display_name": "allahuakbar",
   "language": "python",
   "name": "python3"
  },
  "language_info": {
   "codemirror_mode": {
    "name": "ipython",
    "version": 3
   },
   "file_extension": ".py",
   "mimetype": "text/x-python",
   "name": "python",
   "nbconvert_exporter": "python",
   "pygments_lexer": "ipython3",
   "version": "3.10.9"
  }
 },
 "nbformat": 4,
 "nbformat_minor": 4
}
